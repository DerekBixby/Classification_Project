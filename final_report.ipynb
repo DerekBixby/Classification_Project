{
 "cells": [
  {
   "cell_type": "markdown",
   "id": "4aa798c4",
   "metadata": {},
   "source": [
    "# Telco Final Report"
   ]
  },
  {
   "cell_type": "markdown",
   "id": "002f170a",
   "metadata": {},
   "source": [
    "## Goal: "
   ]
  },
  {
   "cell_type": "markdown",
   "id": "a714e9da",
   "metadata": {},
   "source": [
    "* Discover Drivers of churn for Telco customers\n",
    "* Use these drivers to create a machine learning model to predict if a customer will churn"
   ]
  },
  {
   "cell_type": "markdown",
   "id": "571999e6",
   "metadata": {},
   "source": [
    "## Imports"
   ]
  },
  {
   "cell_type": "code",
   "execution_count": 1,
   "id": "3c91b434",
   "metadata": {},
   "outputs": [],
   "source": [
    "import pandas as pd\n",
    "import matplotlib.pyplot as plt\n",
    "import numpy as np\n",
    "import scipy.stats as stats\n",
    "import seaborn as sns\n",
    "\n",
    "from sklearn.model_selection import train_test_split\n",
    "\n",
    "from sklearn.metrics import classification_report, confusion_matrix \n",
    "from sklearn.metrics import accuracy_score\n",
    "from sklearn.tree import DecisionTreeClassifier, plot_tree\n",
    "\n",
    "from wrangle import get_telco_data, split_data, clean_telco\n",
    "import os\n",
    "from env import get_db_url"
   ]
  },
  {
   "cell_type": "markdown",
   "id": "19fb17da",
   "metadata": {},
   "source": [
    "## Acquire"
   ]
  },
  {
   "cell_type": "markdown",
   "id": "9a80a125",
   "metadata": {},
   "source": [
    "* Data was acquired from the codeup database's Telco dataset\n",
    "* Data originally contained 7043 rows and 24 columns before cleaning\n",
    "* Each row represents a customer for Telco\n",
    "* Each column represents a feature of those customers"
   ]
  },
  {
   "cell_type": "code",
   "execution_count": 2,
   "id": "47fe0b1b",
   "metadata": {},
   "outputs": [],
   "source": [
    "telco_df = get_telco_data()\n"
   ]
  },
  {
   "cell_type": "markdown",
   "id": "cb376f52",
   "metadata": {},
   "source": [
    "## Prepare"
   ]
  },
  {
   "cell_type": "markdown",
   "id": "5dca2bae",
   "metadata": {},
   "source": [
    "* Removed columns that were not being examined in this report\n",
    "* Checked for null values, there were none\n",
    "* Checked column data types\n",
    "* Created new column from payment_type column called billing_type that showed if client had automatic or manual payment methods\n",
    "* Encoded categorical variables\n",
    "* split data into train, validate, and test (60/20/20)\n",
    "* no outliers removed for this iteration of the project\n",
    "* selected 4 categories that seemed logically promising as drivers for churn: billing type, monthly charges, contract type, and whether the client has dependents or not."
   ]
  },
  {
   "cell_type": "code",
   "execution_count": 3,
   "id": "f26fbdd2",
   "metadata": {},
   "outputs": [],
   "source": [
    "# create new column for automatic vs manual billing\n",
    "telco_df['billing_type'] = np.where(telco_df.payment_type.str.contains('automatic'), 'automatic', 'manual')"
   ]
  },
  {
   "cell_type": "code",
   "execution_count": 4,
   "id": "93ccd911",
   "metadata": {},
   "outputs": [],
   "source": [
    "# perform above cleaning and dummy variable instructions on df\n",
    "telco_df = clean_telco(telco_df)"
   ]
  },
  {
   "cell_type": "code",
   "execution_count": 5,
   "id": "6f97cd5d",
   "metadata": {},
   "outputs": [
    {
     "data": {
      "text/plain": [
       "((4225, 10), (1409, 10), (1409, 10))"
      ]
     },
     "execution_count": 5,
     "metadata": {},
     "output_type": "execute_result"
    }
   ],
   "source": [
    "# splits data into train, validate, and test sets\n",
    "train, validate, test = split_data(telco_df, col_to_stratify='churn', random_state=7)\n",
    "train.shape, validate.shape, test.shape\n"
   ]
  },
  {
   "cell_type": "code",
   "execution_count": 6,
   "id": "6d1421c5",
   "metadata": {},
   "outputs": [],
   "source": [
    "# splits into x and y for features and target variable on train, test, and validate\n",
    "X_train = train.drop(columns=['dependents', 'contract_type', 'billing_type', 'churn', 'churn_Yes'])\n",
    "y_train = train.churn_Yes\n",
    "\n",
    "X_validate = validate.drop(columns=['dependents', 'contract_type', 'billing_type', 'churn', 'churn_Yes'])\n",
    "y_validate = validate.churn_Yes\n",
    "\n",
    "X_test = test.drop(columns=['dependents', 'contract_type', 'billing_type', 'churn', 'churn_Yes'])\n",
    "y_test = test.churn_Yes"
   ]
  },
  {
   "cell_type": "markdown",
   "id": "3415cda3",
   "metadata": {},
   "source": [
    "## Data Dictionary"
   ]
  },
  {
   "cell_type": "markdown",
   "id": "ff3bd3f2",
   "metadata": {},
   "source": [
    " The following dictionary only defines columns used in analysis for this dataset.\n",
    "\n",
    "| Feature | Definition |\n",
    "|:--------|:-----------|\n",
    "|Churn| True or False, Displays if a customer has churned or not|\n",
    "|Monthly Charges| The amount in dollars a customer is charged each month|\n",
    "|Billing Type| Way in which a customer pays bills: Automatic billing or Manual billing |\n",
    "|Dependents| Yes or no category, does client have dependents?|"
   ]
  },
  {
   "cell_type": "markdown",
   "id": "13ca1195",
   "metadata": {},
   "source": [
    "### Overall view of the data"
   ]
  },
  {
   "cell_type": "code",
   "execution_count": 31,
   "id": "038194f6",
   "metadata": {},
   "outputs": [
    {
     "data": {
      "text/html": [
       "<div>\n",
       "<style scoped>\n",
       "    .dataframe tbody tr th:only-of-type {\n",
       "        vertical-align: middle;\n",
       "    }\n",
       "\n",
       "    .dataframe tbody tr th {\n",
       "        vertical-align: top;\n",
       "    }\n",
       "\n",
       "    .dataframe thead th {\n",
       "        text-align: right;\n",
       "    }\n",
       "</style>\n",
       "<table border=\"1\" class=\"dataframe\">\n",
       "  <thead>\n",
       "    <tr style=\"text-align: right;\">\n",
       "      <th></th>\n",
       "      <th>0</th>\n",
       "      <th>1</th>\n",
       "      <th>2</th>\n",
       "      <th>3</th>\n",
       "      <th>4</th>\n",
       "    </tr>\n",
       "  </thead>\n",
       "  <tbody>\n",
       "    <tr>\n",
       "      <th>dependents</th>\n",
       "      <td>Yes</td>\n",
       "      <td>No</td>\n",
       "      <td>No</td>\n",
       "      <td>No</td>\n",
       "      <td>No</td>\n",
       "    </tr>\n",
       "    <tr>\n",
       "      <th>monthly_charges</th>\n",
       "      <td>65.6</td>\n",
       "      <td>59.9</td>\n",
       "      <td>73.9</td>\n",
       "      <td>98.0</td>\n",
       "      <td>83.9</td>\n",
       "    </tr>\n",
       "    <tr>\n",
       "      <th>churn</th>\n",
       "      <td>No</td>\n",
       "      <td>No</td>\n",
       "      <td>Yes</td>\n",
       "      <td>Yes</td>\n",
       "      <td>Yes</td>\n",
       "    </tr>\n",
       "    <tr>\n",
       "      <th>contract_type</th>\n",
       "      <td>One year</td>\n",
       "      <td>Month-to-month</td>\n",
       "      <td>Month-to-month</td>\n",
       "      <td>Month-to-month</td>\n",
       "      <td>Month-to-month</td>\n",
       "    </tr>\n",
       "    <tr>\n",
       "      <th>billing_type</th>\n",
       "      <td>manual</td>\n",
       "      <td>manual</td>\n",
       "      <td>manual</td>\n",
       "      <td>manual</td>\n",
       "      <td>manual</td>\n",
       "    </tr>\n",
       "    <tr>\n",
       "      <th>dependents_Yes</th>\n",
       "      <td>1</td>\n",
       "      <td>0</td>\n",
       "      <td>0</td>\n",
       "      <td>0</td>\n",
       "      <td>0</td>\n",
       "    </tr>\n",
       "    <tr>\n",
       "      <th>contract_type_One year</th>\n",
       "      <td>1</td>\n",
       "      <td>0</td>\n",
       "      <td>0</td>\n",
       "      <td>0</td>\n",
       "      <td>0</td>\n",
       "    </tr>\n",
       "    <tr>\n",
       "      <th>contract_type_Two year</th>\n",
       "      <td>0</td>\n",
       "      <td>0</td>\n",
       "      <td>0</td>\n",
       "      <td>0</td>\n",
       "      <td>0</td>\n",
       "    </tr>\n",
       "    <tr>\n",
       "      <th>billing_type_manual</th>\n",
       "      <td>1</td>\n",
       "      <td>1</td>\n",
       "      <td>1</td>\n",
       "      <td>1</td>\n",
       "      <td>1</td>\n",
       "    </tr>\n",
       "    <tr>\n",
       "      <th>churn_Yes</th>\n",
       "      <td>0</td>\n",
       "      <td>0</td>\n",
       "      <td>1</td>\n",
       "      <td>1</td>\n",
       "      <td>1</td>\n",
       "    </tr>\n",
       "  </tbody>\n",
       "</table>\n",
       "</div>"
      ],
      "text/plain": [
       "                               0               1               2  \\\n",
       "dependents                   Yes              No              No   \n",
       "monthly_charges             65.6            59.9            73.9   \n",
       "churn                         No              No             Yes   \n",
       "contract_type           One year  Month-to-month  Month-to-month   \n",
       "billing_type              manual          manual          manual   \n",
       "dependents_Yes                 1               0               0   \n",
       "contract_type_One year         1               0               0   \n",
       "contract_type_Two year         0               0               0   \n",
       "billing_type_manual            1               1               1   \n",
       "churn_Yes                      0               0               1   \n",
       "\n",
       "                                     3               4  \n",
       "dependents                          No              No  \n",
       "monthly_charges                   98.0            83.9  \n",
       "churn                              Yes             Yes  \n",
       "contract_type           Month-to-month  Month-to-month  \n",
       "billing_type                    manual          manual  \n",
       "dependents_Yes                       0               0  \n",
       "contract_type_One year               0               0  \n",
       "contract_type_Two year               0               0  \n",
       "billing_type_manual                  1               1  \n",
       "churn_Yes                            1               1  "
      ]
     },
     "execution_count": 31,
     "metadata": {},
     "output_type": "execute_result"
    }
   ],
   "source": [
    "telco_df.head().T"
   ]
  },
  {
   "cell_type": "markdown",
   "id": "e2690d3a",
   "metadata": {},
   "source": [
    "### Summary of the data"
   ]
  },
  {
   "cell_type": "code",
   "execution_count": 32,
   "id": "92ecd325",
   "metadata": {},
   "outputs": [
    {
     "data": {
      "text/html": [
       "<div>\n",
       "<style scoped>\n",
       "    .dataframe tbody tr th:only-of-type {\n",
       "        vertical-align: middle;\n",
       "    }\n",
       "\n",
       "    .dataframe tbody tr th {\n",
       "        vertical-align: top;\n",
       "    }\n",
       "\n",
       "    .dataframe thead th {\n",
       "        text-align: right;\n",
       "    }\n",
       "</style>\n",
       "<table border=\"1\" class=\"dataframe\">\n",
       "  <thead>\n",
       "    <tr style=\"text-align: right;\">\n",
       "      <th></th>\n",
       "      <th>monthly_charges</th>\n",
       "      <th>dependents_Yes</th>\n",
       "      <th>contract_type_One year</th>\n",
       "      <th>contract_type_Two year</th>\n",
       "      <th>billing_type_manual</th>\n",
       "      <th>churn_Yes</th>\n",
       "    </tr>\n",
       "  </thead>\n",
       "  <tbody>\n",
       "    <tr>\n",
       "      <th>count</th>\n",
       "      <td>7043.000000</td>\n",
       "      <td>7043.000000</td>\n",
       "      <td>7043.000000</td>\n",
       "      <td>7043.000000</td>\n",
       "      <td>7043.000000</td>\n",
       "      <td>7043.000000</td>\n",
       "    </tr>\n",
       "    <tr>\n",
       "      <th>mean</th>\n",
       "      <td>64.761692</td>\n",
       "      <td>0.299588</td>\n",
       "      <td>0.209144</td>\n",
       "      <td>0.240664</td>\n",
       "      <td>0.564674</td>\n",
       "      <td>0.265370</td>\n",
       "    </tr>\n",
       "    <tr>\n",
       "      <th>std</th>\n",
       "      <td>30.090047</td>\n",
       "      <td>0.458110</td>\n",
       "      <td>0.406726</td>\n",
       "      <td>0.427517</td>\n",
       "      <td>0.495835</td>\n",
       "      <td>0.441561</td>\n",
       "    </tr>\n",
       "    <tr>\n",
       "      <th>min</th>\n",
       "      <td>18.250000</td>\n",
       "      <td>0.000000</td>\n",
       "      <td>0.000000</td>\n",
       "      <td>0.000000</td>\n",
       "      <td>0.000000</td>\n",
       "      <td>0.000000</td>\n",
       "    </tr>\n",
       "    <tr>\n",
       "      <th>25%</th>\n",
       "      <td>35.500000</td>\n",
       "      <td>0.000000</td>\n",
       "      <td>0.000000</td>\n",
       "      <td>0.000000</td>\n",
       "      <td>0.000000</td>\n",
       "      <td>0.000000</td>\n",
       "    </tr>\n",
       "    <tr>\n",
       "      <th>50%</th>\n",
       "      <td>70.350000</td>\n",
       "      <td>0.000000</td>\n",
       "      <td>0.000000</td>\n",
       "      <td>0.000000</td>\n",
       "      <td>1.000000</td>\n",
       "      <td>0.000000</td>\n",
       "    </tr>\n",
       "    <tr>\n",
       "      <th>75%</th>\n",
       "      <td>89.850000</td>\n",
       "      <td>1.000000</td>\n",
       "      <td>0.000000</td>\n",
       "      <td>0.000000</td>\n",
       "      <td>1.000000</td>\n",
       "      <td>1.000000</td>\n",
       "    </tr>\n",
       "    <tr>\n",
       "      <th>max</th>\n",
       "      <td>118.750000</td>\n",
       "      <td>1.000000</td>\n",
       "      <td>1.000000</td>\n",
       "      <td>1.000000</td>\n",
       "      <td>1.000000</td>\n",
       "      <td>1.000000</td>\n",
       "    </tr>\n",
       "  </tbody>\n",
       "</table>\n",
       "</div>"
      ],
      "text/plain": [
       "       monthly_charges  dependents_Yes  contract_type_One year  \\\n",
       "count      7043.000000     7043.000000             7043.000000   \n",
       "mean         64.761692        0.299588                0.209144   \n",
       "std          30.090047        0.458110                0.406726   \n",
       "min          18.250000        0.000000                0.000000   \n",
       "25%          35.500000        0.000000                0.000000   \n",
       "50%          70.350000        0.000000                0.000000   \n",
       "75%          89.850000        1.000000                0.000000   \n",
       "max         118.750000        1.000000                1.000000   \n",
       "\n",
       "       contract_type_Two year  billing_type_manual    churn_Yes  \n",
       "count             7043.000000          7043.000000  7043.000000  \n",
       "mean                 0.240664             0.564674     0.265370  \n",
       "std                  0.427517             0.495835     0.441561  \n",
       "min                  0.000000             0.000000     0.000000  \n",
       "25%                  0.000000             0.000000     0.000000  \n",
       "50%                  0.000000             1.000000     0.000000  \n",
       "75%                  0.000000             1.000000     1.000000  \n",
       "max                  1.000000             1.000000     1.000000  "
      ]
     },
     "execution_count": 32,
     "metadata": {},
     "output_type": "execute_result"
    }
   ],
   "source": [
    "telco_df.describe()"
   ]
  },
  {
   "cell_type": "markdown",
   "id": "b33de44b",
   "metadata": {},
   "source": [
    "## Explore"
   ]
  },
  {
   "cell_type": "markdown",
   "id": "3d8b302f",
   "metadata": {},
   "source": [
    "Establishing a baseline: how accurate would we be if we just always guessed the mode of the data?"
   ]
  },
  {
   "cell_type": "code",
   "execution_count": 7,
   "id": "4c03a4de",
   "metadata": {},
   "outputs": [],
   "source": [
    "def establish_baseline(y_train):\n",
    "    '''\n",
    "    This function establishes a baseline accuracy for comparison to a  model\n",
    "    '''\n",
    "    # this finds the mode of the train dataset\n",
    "    baseline_prediction = y_train.mode()\n",
    "    # this creates a prediction \n",
    "    y_train_pred = pd.Series((baseline_prediction[0]), range(len(y_train)))\n",
    "\n",
    "    cm = confusion_matrix(y_train, y_train_pred)\n",
    "    tn, fp, fn, tp = cm.ravel()\n",
    "\n",
    "    accuracy = (tp+tn)/(tn+fp+fn+tp)\n",
    "    return accuracy"
   ]
  },
  {
   "cell_type": "code",
   "execution_count": 8,
   "id": "8990a8b4",
   "metadata": {},
   "outputs": [
    {
     "data": {
      "text/plain": [
       "0.7346745562130178"
      ]
     },
     "execution_count": 8,
     "metadata": {},
     "output_type": "execute_result"
    }
   ],
   "source": [
    "establish_baseline(y_train)"
   ]
  },
  {
   "cell_type": "markdown",
   "id": "6288d7c4",
   "metadata": {},
   "source": [
    "### Do monthly charges affect churn? "
   ]
  },
  {
   "cell_type": "code",
   "execution_count": 17,
   "id": "fce99d6e",
   "metadata": {},
   "outputs": [
    {
     "data": {
      "text/plain": [
       "Text(0.5, 1.0, 'Do Monthly Charges Affect Churn?')"
      ]
     },
     "execution_count": 17,
     "metadata": {},
     "output_type": "execute_result"
    },
    {
     "data": {
      "image/png": "[encoded data removed]",
      "text/plain": [
       "<Figure size 640x480 with 1 Axes>"
      ]
     },
     "metadata": {},
     "output_type": "display_data"
    }
   ],
   "source": [
    "sns.boxplot(data=telco_df, y='monthly_charges', x='churn')\n",
    "plt.title('Do Monthly Charges Affect Churn?')"
   ]
  },
  {
   "cell_type": "markdown",
   "id": "48f484ba",
   "metadata": {},
   "source": [
    "It looks like there is a difference in mean charges between churn and no churn groups, but is this difference statistically significant? "
   ]
  },
  {
   "cell_type": "markdown",
   "id": "4eedadd1",
   "metadata": {},
   "source": [
    "First, we must determine if monthly charges follow a normal distribution."
   ]
  },
  {
   "cell_type": "code",
   "execution_count": 18,
   "id": "a4c74b3e",
   "metadata": {},
   "outputs": [
    {
     "data": {
      "text/plain": [
       "<Axes: xlabel='monthly_charges', ylabel='Count'>"
      ]
     },
     "execution_count": 18,
     "metadata": {},
     "output_type": "execute_result"
    },
    {
     "data": {
      "image/png": "[encoded data removed]",
      "text/plain": [
       "<Figure size 640x480 with 1 Axes>"
      ]
     },
     "metadata": {},
     "output_type": "display_data"
    }
   ],
   "source": [
    "sns.histplot(telco_df.monthly_charges)"
   ]
  },
  {
   "cell_type": "markdown",
   "id": "dc8e14aa",
   "metadata": {},
   "source": [
    "It does not appear that we can assume normality. Consequently, we will use a Mann Whitney test to compare means on a continuous variable. Based on the above box plot, we will hypothesize that churn rate is higher with those having higher monthly charges."
   ]
  },
  {
   "cell_type": "markdown",
   "id": "c7f36eeb",
   "metadata": {},
   "source": [
    "Ha: Customers who have churned are more likely to have higher monthly charges\n",
    "Ho: There is no statistically significant difference in monthly charges between churn and no churn customers\n",
    "alpha = .05"
   ]
  },
  {
   "cell_type": "code",
   "execution_count": 19,
   "id": "897500fe",
   "metadata": {},
   "outputs": [],
   "source": [
    "# here, we set means for the churn and no churn samples\n",
    "no_churn_sample = telco_df[telco_df.churn=='No'].monthly_charges\n",
    "churn_sample = telco_df[telco_df.churn=='Yes'].monthly_charges\n",
    "\n",
    "mean_a = churn_sample.mean()\n",
    "mean_b = no_churn_sample.mean()"
   ]
  },
  {
   "cell_type": "code",
   "execution_count": 20,
   "id": "4ebe360c",
   "metadata": {},
   "outputs": [
    {
     "data": {
      "text/plain": [
       "(6003125.5, 1.6558138259942924e-54)"
      ]
     },
     "execution_count": 20,
     "metadata": {},
     "output_type": "execute_result"
    }
   ],
   "source": [
    "# this runs a mann whitney test where the churn sample is hypothesized to be greater than the no churn sample\n",
    "stat, p = stats.mannwhitneyu(churn_sample, no_churn_sample, alternative='greater')\n",
    "stat, p"
   ]
  },
  {
   "cell_type": "markdown",
   "id": "cd6dc8c4",
   "metadata": {},
   "source": [
    "The p value is less than the alpha. We may reject the null hypothesis. Churned customer monthly charges are statistically significantly higher, on average, than no churn customers. This indicates that monthly charges may be a good candidate for use in our model."
   ]
  },
  {
   "cell_type": "markdown",
   "id": "3a64f4dd",
   "metadata": {},
   "source": [
    "### Does billing type affect churn? "
   ]
  },
  {
   "cell_type": "code",
   "execution_count": 21,
   "id": "ec9f6783",
   "metadata": {},
   "outputs": [
    {
     "data": {
      "text/plain": [
       "Text(0.5, 1.0, 'Does Billing Type Affect Churn?')"
      ]
     },
     "execution_count": 21,
     "metadata": {},
     "output_type": "execute_result"
    },
    {
     "data": {
      "image/png": "[encoded data removed]",
      "text/plain": [
       "<Figure size 640x480 with 1 Axes>"
      ]
     },
     "metadata": {},
     "output_type": "display_data"
    }
   ],
   "source": [
    "sns.countplot(x='billing_type', hue='churn', data=telco_df)\n",
    "plt.title('Does Billing Type Affect Churn?')"
   ]
  },
  {
   "cell_type": "markdown",
   "id": "64564d38",
   "metadata": {},
   "source": [
    "I will use a chi square test to compare the categorical variables of churn and billing type"
   ]
  },
  {
   "cell_type": "markdown",
   "id": "41580832",
   "metadata": {},
   "source": [
    "Ha: customers with manual billing have statistically significantly higher churn rate than those with automatic billing\n",
    "Ho: There is no statistically significant different between manual and automatic billing means as regards churn status\n",
    "alpha = .05"
   ]
  },
  {
   "cell_type": "code",
   "execution_count": 22,
   "id": "3d6b938b",
   "metadata": {},
   "outputs": [
    {
     "data": {
      "text/html": [
       "<div>\n",
       "<style scoped>\n",
       "    .dataframe tbody tr th:only-of-type {\n",
       "        vertical-align: middle;\n",
       "    }\n",
       "\n",
       "    .dataframe tbody tr th {\n",
       "        vertical-align: top;\n",
       "    }\n",
       "\n",
       "    .dataframe thead th {\n",
       "        text-align: right;\n",
       "    }\n",
       "</style>\n",
       "<table border=\"1\" class=\"dataframe\">\n",
       "  <thead>\n",
       "    <tr style=\"text-align: right;\">\n",
       "      <th>billing_type</th>\n",
       "      <th>automatic</th>\n",
       "      <th>manual</th>\n",
       "    </tr>\n",
       "    <tr>\n",
       "      <th>churn</th>\n",
       "      <th></th>\n",
       "      <th></th>\n",
       "    </tr>\n",
       "  </thead>\n",
       "  <tbody>\n",
       "    <tr>\n",
       "      <th>No</th>\n",
       "      <td>2576</td>\n",
       "      <td>2598</td>\n",
       "    </tr>\n",
       "    <tr>\n",
       "      <th>Yes</th>\n",
       "      <td>490</td>\n",
       "      <td>1379</td>\n",
       "    </tr>\n",
       "  </tbody>\n",
       "</table>\n",
       "</div>"
      ],
      "text/plain": [
       "billing_type  automatic  manual\n",
       "churn                          \n",
       "No                 2576    2598\n",
       "Yes                 490    1379"
      ]
     },
     "execution_count": 22,
     "metadata": {},
     "output_type": "execute_result"
    }
   ],
   "source": [
    "# we first create a crosstab of values for each category\n",
    "observed = pd.crosstab(telco_df.churn, telco_df.billing_type)\n",
    "observed"
   ]
  },
  {
   "cell_type": "code",
   "execution_count": 24,
   "id": "2b41731d",
   "metadata": {},
   "outputs": [
    {
     "data": {
      "text/plain": [
       "3.0278725722860343e-69"
      ]
     },
     "execution_count": 24,
     "metadata": {},
     "output_type": "execute_result"
    }
   ],
   "source": [
    "# we then calculate our p value \n",
    "chi2, p, degf, expected = stats.chi2_contingency(observed)\n",
    "p"
   ]
  },
  {
   "cell_type": "markdown",
   "id": "4bcf8d82",
   "metadata": {},
   "source": [
    "The p value is less than the alpha. We may reject the null hypothesis. Customers with manual billing are statistically significantly more likely to churn than those with automatic billing. This indicates that billing type may be a good candidate for use in our model."
   ]
  },
  {
   "cell_type": "markdown",
   "id": "d6737f65",
   "metadata": {},
   "source": [
    "### Does contract type affect churn?"
   ]
  },
  {
   "cell_type": "code",
   "execution_count": 25,
   "id": "80c275de",
   "metadata": {},
   "outputs": [
    {
     "data": {
      "text/plain": [
       "Text(0.5, 1.0, 'Does Contract Type Affect Churn?')"
      ]
     },
     "execution_count": 25,
     "metadata": {},
     "output_type": "execute_result"
    },
    {
     "data": {
      "image/png": "[encoded data removed]",
      "text/plain": [
       "<Figure size 640x480 with 1 Axes>"
      ]
     },
     "metadata": {},
     "output_type": "display_data"
    }
   ],
   "source": [
    "sns.countplot(x='contract_type', hue='churn', data=telco_df)\n",
    "plt.title('Does Contract Type Affect Churn?')"
   ]
  },
  {
   "cell_type": "markdown",
   "id": "cc58c607",
   "metadata": {},
   "source": [
    "I will use a chi square test to compare the categorical variables of churn and contract type"
   ]
  },
  {
   "cell_type": "markdown",
   "id": "35af46bc",
   "metadata": {},
   "source": [
    "Ha: Contract type does have a relationship with churn\n",
    "Ho: Contract type does not have a relationship with churn"
   ]
  },
  {
   "cell_type": "code",
   "execution_count": 26,
   "id": "4a4b615c",
   "metadata": {},
   "outputs": [
    {
     "data": {
      "text/html": [
       "<div>\n",
       "<style scoped>\n",
       "    .dataframe tbody tr th:only-of-type {\n",
       "        vertical-align: middle;\n",
       "    }\n",
       "\n",
       "    .dataframe tbody tr th {\n",
       "        vertical-align: top;\n",
       "    }\n",
       "\n",
       "    .dataframe thead th {\n",
       "        text-align: right;\n",
       "    }\n",
       "</style>\n",
       "<table border=\"1\" class=\"dataframe\">\n",
       "  <thead>\n",
       "    <tr style=\"text-align: right;\">\n",
       "      <th>contract_type</th>\n",
       "      <th>Month-to-month</th>\n",
       "      <th>One year</th>\n",
       "      <th>Two year</th>\n",
       "    </tr>\n",
       "    <tr>\n",
       "      <th>churn</th>\n",
       "      <th></th>\n",
       "      <th></th>\n",
       "      <th></th>\n",
       "    </tr>\n",
       "  </thead>\n",
       "  <tbody>\n",
       "    <tr>\n",
       "      <th>No</th>\n",
       "      <td>2220</td>\n",
       "      <td>1307</td>\n",
       "      <td>1647</td>\n",
       "    </tr>\n",
       "    <tr>\n",
       "      <th>Yes</th>\n",
       "      <td>1655</td>\n",
       "      <td>166</td>\n",
       "      <td>48</td>\n",
       "    </tr>\n",
       "  </tbody>\n",
       "</table>\n",
       "</div>"
      ],
      "text/plain": [
       "contract_type  Month-to-month  One year  Two year\n",
       "churn                                            \n",
       "No                       2220      1307      1647\n",
       "Yes                      1655       166        48"
      ]
     },
     "execution_count": 26,
     "metadata": {},
     "output_type": "execute_result"
    }
   ],
   "source": [
    "# we first create a crosstab of values for each combination of categories\n",
    "observed_contract = pd.crosstab(telco_df.churn, telco_df.contract_type)\n",
    "observed_contract"
   ]
  },
  {
   "cell_type": "code",
   "execution_count": 27,
   "id": "79821a9a",
   "metadata": {},
   "outputs": [
    {
     "data": {
      "text/plain": [
       "5.863038300673391e-258"
      ]
     },
     "execution_count": 27,
     "metadata": {},
     "output_type": "execute_result"
    }
   ],
   "source": [
    "# we then calculate our p value \n",
    "chi2, p, degf, expected = stats.chi2_contingency(observed_contract)\n",
    "p"
   ]
  },
  {
   "cell_type": "markdown",
   "id": "d0d1c6b2",
   "metadata": {},
   "source": [
    "The p value is less than the alpha. We may reject the null hypothesis. Churn does have a statistically significant relationship to contract type. This indicates that contract type may be a good candidate for use in our model."
   ]
  },
  {
   "cell_type": "markdown",
   "id": "01baa1e8",
   "metadata": {},
   "source": [
    "### Does having dependents have an effect on churn? "
   ]
  },
  {
   "cell_type": "code",
   "execution_count": 28,
   "id": "783f1f10",
   "metadata": {},
   "outputs": [
    {
     "data": {
      "text/plain": [
       "Text(0.5, 1.0, 'Does Having Dependents Affect Churn?')"
      ]
     },
     "execution_count": 28,
     "metadata": {},
     "output_type": "execute_result"
    },
    {
     "data": {
      "image/png": "[encoded data removed]",
      "text/plain": [
       "<Figure size 640x480 with 1 Axes>"
      ]
     },
     "metadata": {},
     "output_type": "display_data"
    }
   ],
   "source": [
    "sns.countplot(x='dependents', hue='churn', data=telco_df)\n",
    "plt.title('Does Having Dependents Affect Churn?')"
   ]
  },
  {
   "cell_type": "markdown",
   "id": "21a98c36",
   "metadata": {},
   "source": [
    "I will use a chi square test to compare the categorical variables of churn and possession of dependents"
   ]
  },
  {
   "cell_type": "markdown",
   "id": "88038df0",
   "metadata": {},
   "source": [
    "Ha: There is a statistically significant difference between those with dependents and those without when it comes to churn\n",
    "\n",
    "Ho: There is no statistically significant difference between those with and without dependents when it comes to churn"
   ]
  },
  {
   "cell_type": "code",
   "execution_count": 29,
   "id": "96749900",
   "metadata": {},
   "outputs": [
    {
     "data": {
      "text/html": [
       "<div>\n",
       "<style scoped>\n",
       "    .dataframe tbody tr th:only-of-type {\n",
       "        vertical-align: middle;\n",
       "    }\n",
       "\n",
       "    .dataframe tbody tr th {\n",
       "        vertical-align: top;\n",
       "    }\n",
       "\n",
       "    .dataframe thead th {\n",
       "        text-align: right;\n",
       "    }\n",
       "</style>\n",
       "<table border=\"1\" class=\"dataframe\">\n",
       "  <thead>\n",
       "    <tr style=\"text-align: right;\">\n",
       "      <th>dependents</th>\n",
       "      <th>No</th>\n",
       "      <th>Yes</th>\n",
       "    </tr>\n",
       "    <tr>\n",
       "      <th>churn</th>\n",
       "      <th></th>\n",
       "      <th></th>\n",
       "    </tr>\n",
       "  </thead>\n",
       "  <tbody>\n",
       "    <tr>\n",
       "      <th>No</th>\n",
       "      <td>3390</td>\n",
       "      <td>1784</td>\n",
       "    </tr>\n",
       "    <tr>\n",
       "      <th>Yes</th>\n",
       "      <td>1543</td>\n",
       "      <td>326</td>\n",
       "    </tr>\n",
       "  </tbody>\n",
       "</table>\n",
       "</div>"
      ],
      "text/plain": [
       "dependents    No   Yes\n",
       "churn                 \n",
       "No          3390  1784\n",
       "Yes         1543   326"
      ]
     },
     "execution_count": 29,
     "metadata": {},
     "output_type": "execute_result"
    }
   ],
   "source": [
    "# we first create a crosstab of values for each combination of categories\n",
    "observed_dependents = pd.crosstab(telco_df.churn, telco_df.dependents)\n",
    "observed_dependents"
   ]
  },
  {
   "cell_type": "code",
   "execution_count": 30,
   "id": "b5082d6d",
   "metadata": {},
   "outputs": [
    {
     "data": {
      "text/plain": [
       "4.9249216612154196e-43"
      ]
     },
     "execution_count": 30,
     "metadata": {},
     "output_type": "execute_result"
    }
   ],
   "source": [
    "# we then calculate our p value \n",
    "chi2, p, degf, expected = stats.chi2_contingency(observed_dependents)\n",
    "p"
   ]
  },
  {
   "cell_type": "markdown",
   "id": "52cf3234",
   "metadata": {},
   "source": [
    "The p value is less than the alpha. We may reject the null hypothesis. Churn does have a statistically significant relationship to hacing dependents. This indicates that dependents may be a good candidate for use in our model."
   ]
  },
  {
   "cell_type": "markdown",
   "id": "6920d861",
   "metadata": {},
   "source": [
    "### Exploration Summary "
   ]
  },
  {
   "cell_type": "markdown",
   "id": "a735031d",
   "metadata": {},
   "source": [
    "* All 4 chosen features seem to be drivers of churn\n",
    "* Based on graphs of these variables, contract type and billing type seem to be the strongest of these drivers\n",
    "* We will then use all 4 of these features in the model"
   ]
  },
  {
   "cell_type": "markdown",
   "id": "05145fee",
   "metadata": {},
   "source": [
    "## Creating a predictive model"
   ]
  },
  {
   "cell_type": "markdown",
   "id": "76a57b61",
   "metadata": {},
   "source": [
    "* We will use accuracy as our primary metric to compare models as this focuses on how often we predicted correctly.\n",
    "* As earlier depicted, our baseline accuracy is 73%. The model will have to exceed this to be beneficial to us.\n",
    "* We will use Decision Tree as our model for its ease of use, transparency in explanation, and ease with which parameters can be modified\n",
    "* We will then pick out top 3 performing models by comparing performance on test data and performance on validate data to account for both accuracy and overfitness\n"
   ]
  },
  {
   "cell_type": "markdown",
   "id": "170d0ff3",
   "metadata": {},
   "source": [
    "### Iterating through decision tree parameters to compare models"
   ]
  },
  {
   "cell_type": "code",
   "execution_count": 9,
   "id": "0d8b43a4",
   "metadata": {},
   "outputs": [],
   "source": [
    "scores_all = []\n",
    "\n",
    "for x in range(1,20):\n",
    "    #creates model object\n",
    "    clf = DecisionTreeClassifier(max_depth=x)\n",
    "    #fits train data to model\n",
    "    clf.fit(X_train, y_train)\n",
    "    #creates accuracy score\n",
    "    train_acc = clf.score(X_train, y_train)\n",
    "    \n",
    "    #evaluate on validate\n",
    "    val_acc = clf.score(X_validate, y_validate)\n",
    "    \n",
    "    scores_all.append([x, train_acc, val_acc])"
   ]
  },
  {
   "cell_type": "code",
   "execution_count": 10,
   "id": "89f70961",
   "metadata": {},
   "outputs": [
    {
     "data": {
      "text/html": [
       "<div>\n",
       "<style scoped>\n",
       "    .dataframe tbody tr th:only-of-type {\n",
       "        vertical-align: middle;\n",
       "    }\n",
       "\n",
       "    .dataframe tbody tr th {\n",
       "        vertical-align: top;\n",
       "    }\n",
       "\n",
       "    .dataframe thead th {\n",
       "        text-align: right;\n",
       "    }\n",
       "</style>\n",
       "<table border=\"1\" class=\"dataframe\">\n",
       "  <thead>\n",
       "    <tr style=\"text-align: right;\">\n",
       "      <th></th>\n",
       "      <th>max_depth</th>\n",
       "      <th>train_acc</th>\n",
       "      <th>val_acc</th>\n",
       "    </tr>\n",
       "  </thead>\n",
       "  <tbody>\n",
       "    <tr>\n",
       "      <th>0</th>\n",
       "      <td>1</td>\n",
       "      <td>0.734675</td>\n",
       "      <td>0.734564</td>\n",
       "    </tr>\n",
       "    <tr>\n",
       "      <th>1</th>\n",
       "      <td>2</td>\n",
       "      <td>0.734675</td>\n",
       "      <td>0.734564</td>\n",
       "    </tr>\n",
       "    <tr>\n",
       "      <th>2</th>\n",
       "      <td>3</td>\n",
       "      <td>0.747219</td>\n",
       "      <td>0.774308</td>\n",
       "    </tr>\n",
       "    <tr>\n",
       "      <th>3</th>\n",
       "      <td>4</td>\n",
       "      <td>0.764734</td>\n",
       "      <td>0.781405</td>\n",
       "    </tr>\n",
       "    <tr>\n",
       "      <th>4</th>\n",
       "      <td>5</td>\n",
       "      <td>0.768757</td>\n",
       "      <td>0.775727</td>\n",
       "    </tr>\n",
       "  </tbody>\n",
       "</table>\n",
       "</div>"
      ],
      "text/plain": [
       "   max_depth  train_acc   val_acc\n",
       "0          1   0.734675  0.734564\n",
       "1          2   0.734675  0.734564\n",
       "2          3   0.747219  0.774308\n",
       "3          4   0.764734  0.781405\n",
       "4          5   0.768757  0.775727"
      ]
     },
     "execution_count": 10,
     "metadata": {},
     "output_type": "execute_result"
    }
   ],
   "source": [
    "#creates dataframe with all scores \n",
    "scores_df = pd.DataFrame(scores_all, columns=['max_depth','train_acc','val_acc'])\n",
    "scores_df.head()"
   ]
  },
  {
   "cell_type": "code",
   "execution_count": 11,
   "id": "8beb2388",
   "metadata": {},
   "outputs": [],
   "source": [
    "#creates column with score difference\n",
    "scores_df['diff'] = scores_df.train_acc - scores_df.val_acc"
   ]
  },
  {
   "cell_type": "code",
   "execution_count": 12,
   "id": "6e68777d",
   "metadata": {},
   "outputs": [
    {
     "data": {
      "image/png": "[encoded data removed]",
      "text/plain": [
       "<Figure size 1200x600 with 1 Axes>"
      ]
     },
     "metadata": {},
     "output_type": "display_data"
    }
   ],
   "source": [
    "# plots a graph showing comparison of train accuracy, validity accuracy, and the difference between these\n",
    "plt.figure(figsize=(12,6))\n",
    "#plots train\n",
    "plt.plot(scores_df.max_depth, scores_df.train_acc, label='train', marker='o')\n",
    "#plots validate\n",
    "plt.plot(scores_df.max_depth, scores_df.val_acc, label='validate', marker='o')\n",
    "#creates labels and other plot information\n",
    "plt.xlabel('max depth')\n",
    "plt.ylabel('accuracy')\n",
    "plt.title('how does the accuracy change with max depth on train and validate?')\n",
    "plt.legend()\n",
    "plt.show()"
   ]
  },
  {
   "cell_type": "markdown",
   "id": "3d2b3488",
   "metadata": {},
   "source": [
    "Models 5,6, and 7 perform well on accuracy, but 7 seems to be the most accurate without becoming overfit"
   ]
  },
  {
   "cell_type": "code",
   "execution_count": 13,
   "id": "7f4baa31",
   "metadata": {},
   "outputs": [
    {
     "name": "stdout",
     "output_type": "stream",
     "text": [
      "Accuracy of Decision Tree classifier on test set: 0.72\n"
     ]
    }
   ],
   "source": [
    "# Get accuracy results on test data for model 7\n",
    "print('Accuracy of Decision Tree classifier on test set: {:.2f}'\n",
    "     .format(clf.score(X_test, y_test)))"
   ]
  },
  {
   "cell_type": "markdown",
   "id": "3f59da2f",
   "metadata": {},
   "source": [
    "Model 7 does not seem to perform better than baseline on predicting customer churn"
   ]
  },
  {
   "cell_type": "markdown",
   "id": "43e7037c",
   "metadata": {},
   "source": [
    "## Conclusions"
   ]
  },
  {
   "cell_type": "markdown",
   "id": "a50cbbdb",
   "metadata": {},
   "source": [
    "### Exploration"
   ]
  },
  {
   "cell_type": "markdown",
   "id": "43f06794",
   "metadata": {},
   "source": [
    "* Baseline accuracy was 73% \n",
    "* Higher monthly charges indicated an elevated likelihood of churn\n",
    "* Type of contract has a relationship with churn, monthly contracts being especially likely to churn\n",
    "* Manual billing increases likelihood of churn\n",
    "* Not having dependents increases lielihood of churn\n"
   ]
  },
  {
   "cell_type": "markdown",
   "id": "02b3863e",
   "metadata": {},
   "source": [
    "### Modeling"
   ]
  },
  {
   "cell_type": "markdown",
   "id": "a30ae42d",
   "metadata": {},
   "source": [
    "* The final model does not outperform baseline\n",
    "* Additional drivers should be added to possibly increase performance\n"
   ]
  },
  {
   "cell_type": "markdown",
   "id": "97b0b8d1",
   "metadata": {},
   "source": [
    "### Recommendations"
   ]
  },
  {
   "cell_type": "markdown",
   "id": "54b73b40",
   "metadata": {},
   "source": [
    "* Increased incentive to sign longer contracts or to move to automatic billing might help decrease churn rate\n",
    "* Marketing to families or offering family plan incentives might attract more long term customers"
   ]
  },
  {
   "cell_type": "markdown",
   "id": "3053ee73",
   "metadata": {},
   "source": [
    "### Next Steps"
   ]
  },
  {
   "cell_type": "markdown",
   "id": "e7b95f91",
   "metadata": {},
   "source": [
    "* Testing other modeling algorithms could be useful to increase predictive capability\n",
    "* Tenure might also be a useful driver, but we would have to check for relationship between that and monthly charges\n",
    "* could transform contract type category into monthly vs non-monthly and see if this is a more useful driver"
   ]
  }
 ],
 "metadata": {
  "kernelspec": {
   "display_name": "Python 3 (ipykernel)",
   "language": "python",
   "name": "python3"
  },
  "language_info": {
   "codemirror_mode": {
    "name": "ipython",
    "version": 3
   },
   "file_extension": ".py",
   "mimetype": "text/x-python",
   "name": "python",
   "nbconvert_exporter": "python",
   "pygments_lexer": "ipython3",
   "version": "3.10.9"
  }
 },
 "nbformat": 4,
 "nbformat_minor": 5
}
